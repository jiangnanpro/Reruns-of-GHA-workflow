{
 "cells": [
  {
   "cell_type": "markdown",
   "id": "ecea6208-7491-4986-9693-feddd13e46c5",
   "metadata": {},
   "source": [
    "# Build dataset for training ML-based models and analyze the effectiveness of the selected models"
   ]
  },
  {
   "cell_type": "code",
   "execution_count": 1,
   "id": "7e8eea84-b71f-4830-b73a-d566ace836e8",
   "metadata": {
    "tags": []
   },
   "outputs": [],
   "source": [
    "import pickle\n",
    "import pandas as pd\n",
    "import json\n",
    "import re\n",
    "import matplotlib.pyplot as plt\n",
    "\n",
    "from ast import literal_eval"
   ]
  },
  {
   "cell_type": "markdown",
   "id": "e1422283-c5cd-4dbd-8bec-33f33713c048",
   "metadata": {
    "tags": []
   },
   "source": [
    "## 1. Build dataset"
   ]
  },
  {
   "cell_type": "code",
   "execution_count": 2,
   "id": "8d65190d-dac1-438f-8611-57f3670ca820",
   "metadata": {
    "tags": []
   },
   "outputs": [],
   "source": [
    "df_workflow_rerun = pd.read_csv('../data/dataframes/dataframe_workflow_rerun_distinct.csv.gz', index_col=0,converters={'reruns ids':literal_eval,'rerun conclusion':literal_eval,'content':literal_eval,'event':literal_eval})\n",
    "data_records = df_workflow_rerun[['repo path','workflow file path','reruns ids','content','rerun conclusion','branch','default','event']].to_dict('records')"
   ]
  },
  {
   "cell_type": "code",
   "execution_count": 3,
   "id": "214d1986-ed2a-4896-8fa7-34ca68c16c42",
   "metadata": {
    "tags": []
   },
   "outputs": [
    {
     "data": {
      "text/html": [
       "<div>\n",
       "<style scoped>\n",
       "    .dataframe tbody tr th:only-of-type {\n",
       "        vertical-align: middle;\n",
       "    }\n",
       "\n",
       "    .dataframe tbody tr th {\n",
       "        vertical-align: top;\n",
       "    }\n",
       "\n",
       "    .dataframe thead th {\n",
       "        text-align: right;\n",
       "    }\n",
       "</style>\n",
       "<table border=\"1\" class=\"dataframe\">\n",
       "  <thead>\n",
       "    <tr style=\"text-align: right;\">\n",
       "      <th></th>\n",
       "      <th>File index</th>\n",
       "      <th>repo path</th>\n",
       "      <th>workflow file path</th>\n",
       "      <th>branch</th>\n",
       "      <th>default</th>\n",
       "      <th>event</th>\n",
       "      <th>reruns</th>\n",
       "      <th>reruns ids</th>\n",
       "      <th># avg rerun</th>\n",
       "      <th># max rerun</th>\n",
       "      <th># min rerun</th>\n",
       "      <th># rerun sets</th>\n",
       "      <th>last rerun's conclusion</th>\n",
       "      <th># success</th>\n",
       "      <th># failure</th>\n",
       "      <th>content</th>\n",
       "      <th>rerun conclusion</th>\n",
       "    </tr>\n",
       "  </thead>\n",
       "  <tbody>\n",
       "    <tr>\n",
       "      <th>0</th>\n",
       "      <td>[3, 3, 1]</td>\n",
       "      <td>1c-syntax/bsl-language-server</td>\n",
       "      <td>.github/workflows/qa.yml</td>\n",
       "      <td>develop</td>\n",
       "      <td>True</td>\n",
       "      <td>[[workflow_run, workflow_run, workflow_run], [...</td>\n",
       "      <td>[2, 19, 7, 3, 3, 5, 6, 8, 2, 9, 1, 1]</td>\n",
       "      <td>[[6174675977, 6174737838, 6174898363], [644200...</td>\n",
       "      <td>5.500000</td>\n",
       "      <td>19</td>\n",
       "      <td>1</td>\n",
       "      <td>12</td>\n",
       "      <td>['success', 'success', 'success', 'success', '...</td>\n",
       "      <td>7</td>\n",
       "      <td>5</td>\n",
       "      <td>[[https://api.github.com/repos/1c-syntax/bsl-l...</td>\n",
       "      <td>[[failure, success, success], [failure, failur...</td>\n",
       "    </tr>\n",
       "    <tr>\n",
       "      <th>1</th>\n",
       "      <td>[3, 14, 0]</td>\n",
       "      <td>1c-syntax/bsl-language-server</td>\n",
       "      <td>.github/workflows/gradle.yml</td>\n",
       "      <td>feature/osClassModuleType</td>\n",
       "      <td>False</td>\n",
       "      <td>[[push, pull_request]]</td>\n",
       "      <td>[1]</td>\n",
       "      <td>[[5694924874, 5694924932]]</td>\n",
       "      <td>1.000000</td>\n",
       "      <td>1</td>\n",
       "      <td>1</td>\n",
       "      <td>1</td>\n",
       "      <td>['failure']</td>\n",
       "      <td>0</td>\n",
       "      <td>1</td>\n",
       "      <td>[[https://api.github.com/repos/1c-syntax/bsl-l...</td>\n",
       "      <td>[[failure, failure]]</td>\n",
       "    </tr>\n",
       "    <tr>\n",
       "      <th>2</th>\n",
       "      <td>[4, 1, 0]</td>\n",
       "      <td>1c-syntax/sonar-bsl-plugin-community</td>\n",
       "      <td>.github/workflows/night_build.yml</td>\n",
       "      <td>develop</td>\n",
       "      <td>True</td>\n",
       "      <td>[[schedule, schedule, schedule], [schedule, sc...</td>\n",
       "      <td>[2, 3, 7, 6, 3, 2, 4, 18, 1, 13, 1]</td>\n",
       "      <td>[[3827335175, 3835710330, 3844383153], [385315...</td>\n",
       "      <td>5.454545</td>\n",
       "      <td>18</td>\n",
       "      <td>1</td>\n",
       "      <td>11</td>\n",
       "      <td>['failure', 'failure', 'failure', 'failure', '...</td>\n",
       "      <td>0</td>\n",
       "      <td>11</td>\n",
       "      <td>[[https://api.github.com/repos/1c-syntax/sonar...</td>\n",
       "      <td>[[failure, failure, failure], [failure, failur...</td>\n",
       "    </tr>\n",
       "    <tr>\n",
       "      <th>3</th>\n",
       "      <td>[8, 2, 0]</td>\n",
       "      <td>3arthqu4ke/3arthh4ck</td>\n",
       "      <td>.github/workflows/docker.yml</td>\n",
       "      <td>main</td>\n",
       "      <td>True</td>\n",
       "      <td>[[workflow_run, workflow_run]]</td>\n",
       "      <td>[1]</td>\n",
       "      <td>[[4076411830, 4091899320]]</td>\n",
       "      <td>1.000000</td>\n",
       "      <td>1</td>\n",
       "      <td>1</td>\n",
       "      <td>1</td>\n",
       "      <td>['success']</td>\n",
       "      <td>1</td>\n",
       "      <td>0</td>\n",
       "      <td>[[https://api.github.com/repos/3arthqu4ke/3art...</td>\n",
       "      <td>[[failure, success]]</td>\n",
       "    </tr>\n",
       "    <tr>\n",
       "      <th>4</th>\n",
       "      <td>[12, 11, 1]</td>\n",
       "      <td>94fzb/zrlog</td>\n",
       "      <td>.github/workflows/codeql-analysis.yml</td>\n",
       "      <td>master</td>\n",
       "      <td>True</td>\n",
       "      <td>[[schedule, schedule, schedule, schedule, sche...</td>\n",
       "      <td>[8, 2, 3, 3]</td>\n",
       "      <td>[[3872519179, 3929066488, 3985101351, 40424906...</td>\n",
       "      <td>4.000000</td>\n",
       "      <td>8</td>\n",
       "      <td>2</td>\n",
       "      <td>4</td>\n",
       "      <td>['success', 'success', 'success', 'success']</td>\n",
       "      <td>4</td>\n",
       "      <td>0</td>\n",
       "      <td>[[https://api.github.com/repos/94fzb/zrlog/con...</td>\n",
       "      <td>[[failure, success, success, failure, success,...</td>\n",
       "    </tr>\n",
       "    <tr>\n",
       "      <th>...</th>\n",
       "      <td>...</td>\n",
       "      <td>...</td>\n",
       "      <td>...</td>\n",
       "      <td>...</td>\n",
       "      <td>...</td>\n",
       "      <td>...</td>\n",
       "      <td>...</td>\n",
       "      <td>...</td>\n",
       "      <td>...</td>\n",
       "      <td>...</td>\n",
       "      <td>...</td>\n",
       "      <td>...</td>\n",
       "      <td>...</td>\n",
       "      <td>...</td>\n",
       "      <td>...</td>\n",
       "      <td>...</td>\n",
       "      <td>...</td>\n",
       "    </tr>\n",
       "    <tr>\n",
       "      <th>1367</th>\n",
       "      <td>[3308, 4, 0]</td>\n",
       "      <td>zhouhailin/freeswitch-externals</td>\n",
       "      <td>dynamic/pages/pages-build-deployment</td>\n",
       "      <td>v1.7-dev</td>\n",
       "      <td>True</td>\n",
       "      <td>[[dynamic, dynamic, dynamic]]</td>\n",
       "      <td>[2]</td>\n",
       "      <td>[[5123044637, 5123054258, 6582462821]]</td>\n",
       "      <td>2.000000</td>\n",
       "      <td>2</td>\n",
       "      <td>2</td>\n",
       "      <td>1</td>\n",
       "      <td>['success']</td>\n",
       "      <td>1</td>\n",
       "      <td>0</td>\n",
       "      <td>[[https://api.github.com/repos/zhouhailin/free...</td>\n",
       "      <td>[[failure, success, success]]</td>\n",
       "    </tr>\n",
       "    <tr>\n",
       "      <th>1368</th>\n",
       "      <td>[3310, 2, 1]</td>\n",
       "      <td>zinggAI/zingg</td>\n",
       "      <td>.github/workflows/codeql.yml</td>\n",
       "      <td>0.3.5</td>\n",
       "      <td>False</td>\n",
       "      <td>[[push, push]]</td>\n",
       "      <td>[1]</td>\n",
       "      <td>[[4581579825, 4626574290]]</td>\n",
       "      <td>1.000000</td>\n",
       "      <td>1</td>\n",
       "      <td>1</td>\n",
       "      <td>1</td>\n",
       "      <td>['failure']</td>\n",
       "      <td>0</td>\n",
       "      <td>1</td>\n",
       "      <td>[[https://api.github.com/repos/zinggAI/zingg/c...</td>\n",
       "      <td>[[failure, failure]]</td>\n",
       "    </tr>\n",
       "    <tr>\n",
       "      <th>1369</th>\n",
       "      <td>[3310, 10, 1]</td>\n",
       "      <td>zinggAI/zingg</td>\n",
       "      <td>.github/workflows/codeql.yml</td>\n",
       "      <td>main</td>\n",
       "      <td>True</td>\n",
       "      <td>[[push, schedule], [push, push], [push, schedu...</td>\n",
       "      <td>[1, 1, 1, 7, 2, 1, 2, 2, 3, 3, 4, 3, 8, 4]</td>\n",
       "      <td>[[4375112804, 4381093887], [4550952813, 455098...</td>\n",
       "      <td>3.000000</td>\n",
       "      <td>8</td>\n",
       "      <td>1</td>\n",
       "      <td>14</td>\n",
       "      <td>['failure', 'failure', 'failure', 'failure', '...</td>\n",
       "      <td>0</td>\n",
       "      <td>14</td>\n",
       "      <td>[[https://api.github.com/repos/zinggAI/zingg/c...</td>\n",
       "      <td>[[failure, failure], [failure, failure], [fail...</td>\n",
       "    </tr>\n",
       "    <tr>\n",
       "      <th>1370</th>\n",
       "      <td>[3314, 29, 0]</td>\n",
       "      <td>zonkyio/embedded-database-spring-test</td>\n",
       "      <td>.github/workflows/test.yml</td>\n",
       "      <td>flyway-9.9-plus</td>\n",
       "      <td>False</td>\n",
       "      <td>[[push, pull_request]]</td>\n",
       "      <td>[1]</td>\n",
       "      <td>[[7534009017, 7534061061]]</td>\n",
       "      <td>1.000000</td>\n",
       "      <td>1</td>\n",
       "      <td>1</td>\n",
       "      <td>1</td>\n",
       "      <td>['failure']</td>\n",
       "      <td>0</td>\n",
       "      <td>1</td>\n",
       "      <td>[[https://api.github.com/repos/zonkyio/embedde...</td>\n",
       "      <td>[[failure, failure]]</td>\n",
       "    </tr>\n",
       "    <tr>\n",
       "      <th>1371</th>\n",
       "      <td>[3317, 7, 0]</td>\n",
       "      <td>zsmartsystems/com.zsmartsystems.zigbee</td>\n",
       "      <td>.github/workflows/codeql.yml</td>\n",
       "      <td>master</td>\n",
       "      <td>True</td>\n",
       "      <td>[[schedule, schedule, schedule], [push, schedu...</td>\n",
       "      <td>[2, 1, 2, 3, 2, 4, 9, 3, 3, 12]</td>\n",
       "      <td>[[4252895534, 4314269608, 4374748820], [475125...</td>\n",
       "      <td>4.100000</td>\n",
       "      <td>12</td>\n",
       "      <td>1</td>\n",
       "      <td>10</td>\n",
       "      <td>['failure', 'failure', 'failure', 'failure', '...</td>\n",
       "      <td>0</td>\n",
       "      <td>10</td>\n",
       "      <td>[[https://api.github.com/repos/zsmartsystems/c...</td>\n",
       "      <td>[[failure, failure, failure], [failure, failur...</td>\n",
       "    </tr>\n",
       "  </tbody>\n",
       "</table>\n",
       "<p>1372 rows × 17 columns</p>\n",
       "</div>"
      ],
      "text/plain": [
       "         File index                               repo path  \\\n",
       "0         [3, 3, 1]           1c-syntax/bsl-language-server   \n",
       "1        [3, 14, 0]           1c-syntax/bsl-language-server   \n",
       "2         [4, 1, 0]    1c-syntax/sonar-bsl-plugin-community   \n",
       "3         [8, 2, 0]                    3arthqu4ke/3arthh4ck   \n",
       "4       [12, 11, 1]                             94fzb/zrlog   \n",
       "...             ...                                     ...   \n",
       "1367   [3308, 4, 0]         zhouhailin/freeswitch-externals   \n",
       "1368   [3310, 2, 1]                           zinggAI/zingg   \n",
       "1369  [3310, 10, 1]                           zinggAI/zingg   \n",
       "1370  [3314, 29, 0]   zonkyio/embedded-database-spring-test   \n",
       "1371   [3317, 7, 0]  zsmartsystems/com.zsmartsystems.zigbee   \n",
       "\n",
       "                         workflow file path                     branch  \\\n",
       "0                  .github/workflows/qa.yml                    develop   \n",
       "1              .github/workflows/gradle.yml  feature/osClassModuleType   \n",
       "2         .github/workflows/night_build.yml                    develop   \n",
       "3              .github/workflows/docker.yml                       main   \n",
       "4     .github/workflows/codeql-analysis.yml                     master   \n",
       "...                                     ...                        ...   \n",
       "1367   dynamic/pages/pages-build-deployment                   v1.7-dev   \n",
       "1368           .github/workflows/codeql.yml                      0.3.5   \n",
       "1369           .github/workflows/codeql.yml                       main   \n",
       "1370             .github/workflows/test.yml            flyway-9.9-plus   \n",
       "1371           .github/workflows/codeql.yml                     master   \n",
       "\n",
       "      default                                              event  \\\n",
       "0        True  [[workflow_run, workflow_run, workflow_run], [...   \n",
       "1       False                             [[push, pull_request]]   \n",
       "2        True  [[schedule, schedule, schedule], [schedule, sc...   \n",
       "3        True                     [[workflow_run, workflow_run]]   \n",
       "4        True  [[schedule, schedule, schedule, schedule, sche...   \n",
       "...       ...                                                ...   \n",
       "1367     True                      [[dynamic, dynamic, dynamic]]   \n",
       "1368    False                                     [[push, push]]   \n",
       "1369     True  [[push, schedule], [push, push], [push, schedu...   \n",
       "1370    False                             [[push, pull_request]]   \n",
       "1371     True  [[schedule, schedule, schedule], [push, schedu...   \n",
       "\n",
       "                                          reruns  \\\n",
       "0          [2, 19, 7, 3, 3, 5, 6, 8, 2, 9, 1, 1]   \n",
       "1                                            [1]   \n",
       "2            [2, 3, 7, 6, 3, 2, 4, 18, 1, 13, 1]   \n",
       "3                                            [1]   \n",
       "4                                   [8, 2, 3, 3]   \n",
       "...                                          ...   \n",
       "1367                                         [2]   \n",
       "1368                                         [1]   \n",
       "1369  [1, 1, 1, 7, 2, 1, 2, 2, 3, 3, 4, 3, 8, 4]   \n",
       "1370                                         [1]   \n",
       "1371             [2, 1, 2, 3, 2, 4, 9, 3, 3, 12]   \n",
       "\n",
       "                                             reruns ids  # avg rerun  \\\n",
       "0     [[6174675977, 6174737838, 6174898363], [644200...     5.500000   \n",
       "1                            [[5694924874, 5694924932]]     1.000000   \n",
       "2     [[3827335175, 3835710330, 3844383153], [385315...     5.454545   \n",
       "3                            [[4076411830, 4091899320]]     1.000000   \n",
       "4     [[3872519179, 3929066488, 3985101351, 40424906...     4.000000   \n",
       "...                                                 ...          ...   \n",
       "1367             [[5123044637, 5123054258, 6582462821]]     2.000000   \n",
       "1368                         [[4581579825, 4626574290]]     1.000000   \n",
       "1369  [[4375112804, 4381093887], [4550952813, 455098...     3.000000   \n",
       "1370                         [[7534009017, 7534061061]]     1.000000   \n",
       "1371  [[4252895534, 4314269608, 4374748820], [475125...     4.100000   \n",
       "\n",
       "      # max rerun  # min rerun  # rerun sets  \\\n",
       "0              19            1            12   \n",
       "1               1            1             1   \n",
       "2              18            1            11   \n",
       "3               1            1             1   \n",
       "4               8            2             4   \n",
       "...           ...          ...           ...   \n",
       "1367            2            2             1   \n",
       "1368            1            1             1   \n",
       "1369            8            1            14   \n",
       "1370            1            1             1   \n",
       "1371           12            1            10   \n",
       "\n",
       "                                last rerun's conclusion  # success  # failure  \\\n",
       "0     ['success', 'success', 'success', 'success', '...          7          5   \n",
       "1                                           ['failure']          0          1   \n",
       "2     ['failure', 'failure', 'failure', 'failure', '...          0         11   \n",
       "3                                           ['success']          1          0   \n",
       "4          ['success', 'success', 'success', 'success']          4          0   \n",
       "...                                                 ...        ...        ...   \n",
       "1367                                        ['success']          1          0   \n",
       "1368                                        ['failure']          0          1   \n",
       "1369  ['failure', 'failure', 'failure', 'failure', '...          0         14   \n",
       "1370                                        ['failure']          0          1   \n",
       "1371  ['failure', 'failure', 'failure', 'failure', '...          0         10   \n",
       "\n",
       "                                                content  \\\n",
       "0     [[https://api.github.com/repos/1c-syntax/bsl-l...   \n",
       "1     [[https://api.github.com/repos/1c-syntax/bsl-l...   \n",
       "2     [[https://api.github.com/repos/1c-syntax/sonar...   \n",
       "3     [[https://api.github.com/repos/3arthqu4ke/3art...   \n",
       "4     [[https://api.github.com/repos/94fzb/zrlog/con...   \n",
       "...                                                 ...   \n",
       "1367  [[https://api.github.com/repos/zhouhailin/free...   \n",
       "1368  [[https://api.github.com/repos/zinggAI/zingg/c...   \n",
       "1369  [[https://api.github.com/repos/zinggAI/zingg/c...   \n",
       "1370  [[https://api.github.com/repos/zonkyio/embedde...   \n",
       "1371  [[https://api.github.com/repos/zsmartsystems/c...   \n",
       "\n",
       "                                       rerun conclusion  \n",
       "0     [[failure, success, success], [failure, failur...  \n",
       "1                                  [[failure, failure]]  \n",
       "2     [[failure, failure, failure], [failure, failur...  \n",
       "3                                  [[failure, success]]  \n",
       "4     [[failure, success, success, failure, success,...  \n",
       "...                                                 ...  \n",
       "1367                      [[failure, success, success]]  \n",
       "1368                               [[failure, failure]]  \n",
       "1369  [[failure, failure], [failure, failure], [fail...  \n",
       "1370                               [[failure, failure]]  \n",
       "1371  [[failure, failure, failure], [failure, failur...  \n",
       "\n",
       "[1372 rows x 17 columns]"
      ]
     },
     "execution_count": 3,
     "metadata": {},
     "output_type": "execute_result"
    }
   ],
   "source": [
    "df_workflow_rerun"
   ]
  },
  {
   "cell_type": "code",
   "execution_count": 4,
   "id": "ce8fd856-7e97-403f-b4e0-f5f2b220db83",
   "metadata": {
    "tags": []
   },
   "outputs": [
    {
     "name": "stdout",
     "output_type": "stream",
     "text": [
      "Successfully loaded 50631 data points, 18 types of event found\n"
     ]
    }
   ],
   "source": [
    "# build dataset for ML-based models.\n",
    "\n",
    "data_ml = []\n",
    "\n",
    "for index,record in enumerate(data_records):\n",
    "    \n",
    "    for set_n in range(len(record['reruns ids'])):\n",
    "        \n",
    "        # verify if there's only 'success' and 'failure' in current rerun set. If not, skip the set.\n",
    "        set_conclusion = list(set(record['rerun conclusion'][set_n]))\n",
    "        \n",
    "        verified = False\n",
    "        \n",
    "        if len(set_conclusion) == 2 and 'success' in set_conclusion and 'failure' in set_conclusion:\n",
    "            \n",
    "            verified = True\n",
    "        \n",
    "        if len(set_conclusion) == 1 and ('success' in set_conclusion or 'failure' in set_conclusion):\n",
    "            \n",
    "            verified = True\n",
    "            \n",
    "        if verified == True:\n",
    "            \n",
    "            for run_n in range(len(record['reruns ids'][set_n])):\n",
    "\n",
    "                dict_record = {}\n",
    "                \n",
    "                dict_record['idx'] = index # The index represent the location(repository, wf file) of a single record.\n",
    "                dict_record['reruns ids'] = record['reruns ids'][set_n][run_n]\n",
    "                dict_record['conclusion'] = record['rerun conclusion'][set_n][run_n]\n",
    "                dict_record['content'] = record['content'][set_n][run_n]\n",
    "                dict_record['rerun_number'] = run_n\n",
    "                dict_record['default'] = record['default']\n",
    "                dict_record['event'] = record['event'][set_n][run_n]\n",
    "\n",
    "                current_id = record['reruns ids'][set_n][run_n]\n",
    "\n",
    "                if run_n == 0:\n",
    "\n",
    "                    dict_record['last_rerun_conclusion'] = 0 # --> there's no previous rerun, current one is the first run\n",
    "\n",
    "                elif record['rerun conclusion'][set_n][run_n-1] == 'success':\n",
    "\n",
    "                    dict_record['last_rerun_conclusion'] = 1 # --> previous rerun's conclusion is 'success'\n",
    "\n",
    "                else:\n",
    "\n",
    "                    dict_record['last_rerun_conclusion'] = 2 # --> previous rerun's conclusion is 'failure'\n",
    "\n",
    "                data_ml.append(dict_record)\n",
    "                \n",
    "                \n",
    "# tokenize event data\n",
    "\n",
    "event_id = {}\n",
    "num_event = 0\n",
    "\n",
    "for record in data_ml:\n",
    "    if record['event'] not in event_id:\n",
    "        event_id[record['event']] = num_event \n",
    "        num_event += 1 \n",
    "    \n",
    "for record in data_ml:\n",
    "    record['event'] = event_id[record['event']]\n",
    "    \n",
    "print(f'Successfully loaded {len(data_ml)} data points, {num_event} types of event found')"
   ]
  },
  {
   "cell_type": "code",
   "execution_count": 5,
   "id": "bead1c29-83b2-47b5-af4e-ab4e5138479c",
   "metadata": {
    "tags": []
   },
   "outputs": [
    {
     "data": {
      "text/plain": [
       "{'idx': 0,\n",
       " 'reruns ids': 6174675977,\n",
       " 'conclusion': 'failure',\n",
       " 'content': 'https://api.github.com/repos/1c-syntax/bsl-language-server/contents/.github/workflows/qa.yml?ref=ad6eb2ec4bfa516013765b518da57fbe380abf86',\n",
       " 'rerun_number': 0,\n",
       " 'default': True,\n",
       " 'event': 0,\n",
       " 'last_rerun_conclusion': 0}"
      ]
     },
     "execution_count": 5,
     "metadata": {},
     "output_type": "execute_result"
    }
   ],
   "source": [
    "data_ml[0]"
   ]
  },
  {
   "cell_type": "code",
   "execution_count": 6,
   "id": "dc543533-e436-4801-b60f-b0802a97a930",
   "metadata": {
    "tags": []
   },
   "outputs": [
    {
     "data": {
      "text/plain": [
       "6391"
      ]
     },
     "execution_count": 6,
     "metadata": {},
     "output_type": "execute_result"
    }
   ],
   "source": [
    "# load the stored contents:\n",
    "with open(f'content_json.pkl','rb') as f:\n",
    "    content_json_list = pickle.load(f)\n",
    "\n",
    "len(content_json_list)"
   ]
  },
  {
   "cell_type": "code",
   "execution_count": 7,
   "id": "ebbd89e7-abae-4f3d-93fb-b817ad5639ed",
   "metadata": {
    "tags": []
   },
   "outputs": [
    {
     "data": {
      "text/plain": [
       "{'name': 'ci-pr-reports.yml',\n",
       " 'path': '.github/workflows/ci-pr-reports.yml',\n",
       " 'sha': '4d2c38bb2b792d618f408d724d4e5024b458c476',\n",
       " 'size': 2621,\n",
       " 'url': 'https://api.github.com/repos/netty/netty/contents/.github/workflows/ci-pr-reports.yml?ref=5db037beedca8aa5b6a486fa515cc6af013ced74',\n",
       " 'html_url': 'https://github.com/netty/netty/blob/5db037beedca8aa5b6a486fa515cc6af013ced74/.github/workflows/ci-pr-reports.yml',\n",
       " 'git_url': 'https://api.github.com/repos/netty/netty/git/blobs/4d2c38bb2b792d618f408d724d4e5024b458c476',\n",
       " 'download_url': 'https://raw.githubusercontent.com/netty/netty/5db037beedca8aa5b6a486fa515cc6af013ced74/.github/workflows/ci-pr-reports.yml',\n",
       " 'type': 'file',\n",
       " 'content': 'IyAtLS0tLS0tLS0tLS0tLS0tLS0tLS0tLS0tLS0tLS0tLS0tLS0tLS0tLS0t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\\nc3QgcmVwb3J0cwo=\\n',\n",
       " 'encoding': 'base64',\n",
       " '_links': {'self': 'https://api.github.com/repos/netty/netty/contents/.github/workflows/ci-pr-reports.yml?ref=5db037beedca8aa5b6a486fa515cc6af013ced74',\n",
       "  'git': 'https://api.github.com/repos/netty/netty/git/blobs/4d2c38bb2b792d618f408d724d4e5024b458c476',\n",
       "  'html': 'https://github.com/netty/netty/blob/5db037beedca8aa5b6a486fa515cc6af013ced74/.github/workflows/ci-pr-reports.yml'}}"
      ]
     },
     "execution_count": 7,
     "metadata": {},
     "output_type": "execute_result"
    }
   ],
   "source": [
    "content_json_list[0]"
   ]
  },
  {
   "cell_type": "code",
   "execution_count": 8,
   "id": "a40c17ff-9992-4674-ad53-b09e2759c0c2",
   "metadata": {
    "tags": []
   },
   "outputs": [],
   "source": [
    "import yaml\n",
    "\n",
    "def count_lines(text):\n",
    "    # Split the text and count the number of lines\n",
    "    lines = text.split('\\n')\n",
    "    num_lines = len(lines)\n",
    "    return num_lines\n",
    "\n",
    "def count_jobs(content):\n",
    "    try:\n",
    "        workflow_data = yaml.safe_load(content)\n",
    "        \n",
    "        if workflow_data != None and 'jobs' in workflow_data:\n",
    "            num_jobs = len(workflow_data['jobs'])\n",
    "        else:\n",
    "            num_jobs = 0\n",
    "    \n",
    "    except Exception as e:\n",
    "        num_jobs = 0\n",
    "    \n",
    "    return num_jobs"
   ]
  },
  {
   "cell_type": "code",
   "execution_count": 9,
   "id": "3b36338d-a77b-49a2-8c09-5e60f09a20d2",
   "metadata": {
    "tags": []
   },
   "outputs": [],
   "source": [
    "# decode the content into original workflow files.\n",
    "import base64\n",
    "\n",
    "content_decoded = []\n",
    "\n",
    "for content in content_json_list:\n",
    "    if 'content' in content:\n",
    "        c_decoded = base64.b64decode(content['content']).decode('utf-8')\n",
    "        content_decoded.append([c_decoded,count_jobs(c_decoded)])\n",
    "    else:\n",
    "        content_decoded.append(['',0])"
   ]
  },
  {
   "cell_type": "code",
   "execution_count": 10,
   "id": "2925b9f2-4a4f-4730-885d-c54cbf03fc72",
   "metadata": {
    "tags": []
   },
   "outputs": [],
   "source": [
    "content_list = []\n",
    "for record in content_json_list:\n",
    "    try:\n",
    "        content_list.append(record['url'])\n",
    "        \n",
    "    except Exception:\n",
    "        \n",
    "        content_list.append('')\n",
    "        \n",
    "# created a dictionary with key:value = content_url:content_decoded\n",
    "dict_url_content = {}\n",
    "for i in range(len(content_list)):\n",
    "    dict_url_content[content_list[i]] = content_decoded[i]\n",
    "\n",
    "# update content feature and add 2 extra features n_lines & n_jobs\n",
    "for record in data_ml:\n",
    "    \n",
    "    if record['content'] in dict_url_content:\n",
    "        content_de = dict_url_content[record['content']]\n",
    "        record['content'] = content_de[0]\n",
    "        record['n_lines'] = count_lines(record['content'])\n",
    "        record['n_jobs'] = content_de[1]\n",
    "    \n",
    "    else:\n",
    "        record['content'] = ''\n",
    "        record['n_lines'] = 0\n",
    "        record['n_jobs'] = 0\n",
    "    "
   ]
  },
  {
   "cell_type": "markdown",
   "id": "22647df1-2027-403b-9ca7-d05b1e0a2d76",
   "metadata": {
    "tags": []
   },
   "source": [
    "## 2. Binary classification with 3 ML-based models - MLP, NB, DT. (using implementation from scikit-learn)"
   ]
  },
  {
   "cell_type": "code",
   "execution_count": 11,
   "id": "c68b1311-4d40-4aa8-b9e9-c53310628edc",
   "metadata": {
    "tags": []
   },
   "outputs": [
    {
     "name": "stdout",
     "output_type": "stream",
     "text": [
      "50631 records in total\n",
      "23462 records with conclusion 'success', 27169 with 'failure', 46.34% are positive\n"
     ]
    }
   ],
   "source": [
    "import numpy as np\n",
    "import random\n",
    "\n",
    "X = []\n",
    "y = []\n",
    "\n",
    "for record in data_ml:\n",
    "    \n",
    "    X.append(np.array([record['idx'],record['last_rerun_conclusion'],record['rerun_number'],record['n_lines'],record['n_jobs'],record['event'],record['default']]))\n",
    "    y.append(1 if record['conclusion'] == 'success' else 0)\n",
    "\n",
    "X = np.array(X)\n",
    "y = np.array(y)\n",
    "\n",
    "print(f'{len(y)} records in total')\n",
    "print(f\"{sum(y)} records with conclusion 'success', {len(y)-sum(y)} with 'failure', {round(sum(y)/len(y)*100,2)}% are positive\")"
   ]
  },
  {
   "cell_type": "code",
   "execution_count": 12,
   "id": "c4e8f47d-7ac0-4109-9106-afb47d456ea4",
   "metadata": {
    "tags": []
   },
   "outputs": [
    {
     "name": "stdout",
     "output_type": "stream",
     "text": [
      "40504 records in train set, 10127 in test set.\n"
     ]
    }
   ],
   "source": [
    "# Data spliting, ratio 8:2\n",
    "\n",
    "from sklearn.model_selection import train_test_split\n",
    "\n",
    "X_train, X_test, y_train, y_test = train_test_split(X, y, test_size=0.2,random_state = 1)\n",
    "print(f\"{len(y_train)} records in train set, {len(y_test)} in test set.\")"
   ]
  },
  {
   "cell_type": "markdown",
   "id": "b650ebe6-2629-44ed-b18d-d08e534fd5cd",
   "metadata": {
    "tags": []
   },
   "source": [
    "### 2.1 Baselines\n",
    "#### 2.1.1 Baseline no.1: Random Prediction"
   ]
  },
  {
   "cell_type": "code",
   "execution_count": 13,
   "id": "4aa46ca1-02d5-4ae7-9220-978f52f16d91",
   "metadata": {
    "tags": []
   },
   "outputs": [
    {
     "name": "stdout",
     "output_type": "stream",
     "text": [
      "F1-score with Random Prediction model: 0.479\n",
      "Precision with Random Prediction model: 0.463\n",
      "Recall with Random Prediction model: 0.496\n"
     ]
    }
   ],
   "source": [
    "class random_guess():\n",
    "    \n",
    "    def predict(self, inputs):\n",
    "        predictions = []\n",
    "        \n",
    "        for record in inputs:\n",
    "            predictions.append(random.choice([0,1]))\n",
    "        \n",
    "        return np.array(predictions)\n",
    "    \n",
    "    \n",
    "rg = random_guess()\n",
    "y_trues = y_test\n",
    "y_preds_rg = rg.predict(X_test)\n",
    "\n",
    "from sklearn.metrics import recall_score\n",
    "from sklearn.metrics import precision_score\n",
    "from sklearn.metrics import f1_score\n",
    "\n",
    "print(f\"F1-score with Random Prediction model: {round(f1_score(y_trues, y_preds_rg), 3)}\")\n",
    "print(f\"Precision with Random Prediction model: {round(precision_score(y_trues, y_preds_rg), 3)}\")\n",
    "print(f\"Recall with Random Prediction model: {round(recall_score(y_trues, y_preds_rg), 3)}\")"
   ]
  },
  {
   "cell_type": "markdown",
   "id": "9b45edd3-0710-412d-ab97-edd9cd38e863",
   "metadata": {
    "tags": []
   },
   "source": [
    "#### 2.1.2 Baseline no.2: Straw-Man Model"
   ]
  },
  {
   "cell_type": "code",
   "execution_count": 14,
   "id": "5321376f-5e30-4caf-ad79-87f96183623c",
   "metadata": {
    "tags": []
   },
   "outputs": [
    {
     "name": "stdout",
     "output_type": "stream",
     "text": [
      "F1-score with Straw-Man model: 0.831\n",
      "Precision with Straw-Man model: 0.813\n",
      "Recall with Straw-Man model: 0.849\n"
     ]
    }
   ],
   "source": [
    "import random\n",
    "\n",
    "class strawman():\n",
    "    \n",
    "    def predict(self, inputs):\n",
    "        predictions = []\n",
    "        \n",
    "        for record in inputs:\n",
    "            if record[1] == 1:\n",
    "                predictions.append(1)\n",
    "            elif record[1] == 2:\n",
    "                predictions.append(0)\n",
    "            else:\n",
    "                predictions.append(random.choice([0,1]))\n",
    "        \n",
    "        return np.array(predictions)\n",
    "\n",
    "st = strawman()\n",
    "y_trues = y_test\n",
    "y_preds_st = st.predict(X_test)\n",
    "\n",
    "\n",
    "from sklearn.metrics import recall_score\n",
    "from sklearn.metrics import precision_score\n",
    "from sklearn.metrics import f1_score\n",
    "\n",
    "print(f\"F1-score with Straw-Man model: {round(f1_score(y_trues, y_preds_st), 3)}\")\n",
    "print(f\"Precision with Straw-Man model: {round(precision_score(y_trues, y_preds_st), 3)}\")\n",
    "print(f\"Recall with Straw-Man model: {round(recall_score(y_trues, y_preds_st), 3)}\")"
   ]
  },
  {
   "cell_type": "markdown",
   "id": "16c2b098-45b4-4ed8-a6ec-7ce5a7c3ba80",
   "metadata": {
    "tags": []
   },
   "source": [
    "### 2.2 ML-based models:\n",
    "#### 2.2.1 MLP classifier:"
   ]
  },
  {
   "cell_type": "code",
   "execution_count": 15,
   "id": "3df0d537-3265-4a2a-941e-59b05503e25a",
   "metadata": {
    "tags": []
   },
   "outputs": [],
   "source": [
    "from sklearn.preprocessing import StandardScaler\n",
    "\n",
    "scaler = StandardScaler()\n",
    "X_train = scaler.fit_transform(X_train)\n",
    "X_test = scaler.transform(X_test)"
   ]
  },
  {
   "cell_type": "code",
   "execution_count": 16,
   "id": "865cd911-645c-46d5-953e-32d33547bae8",
   "metadata": {
    "tags": []
   },
   "outputs": [],
   "source": [
    "from sklearn.neural_network import MLPClassifier\n",
    "\n",
    "mlp_all = MLPClassifier(hidden_layer_sizes=(50,100,50),early_stopping=True, validation_fraction=0.2, random_state=1, batch_size=16, max_iter=300).fit(X_train[:,1:], y_train)    # --> all features\n",
    "mlp_his = MLPClassifier(hidden_layer_sizes=(50,100,50),early_stopping=True, validation_fraction=0.2, random_state=1, batch_size=16, max_iter=300).fit(X_train[:,[1,2]], y_train) # --> historical features\n",
    "mlp_com = MLPClassifier(hidden_layer_sizes=(50,100,50),early_stopping=True, validation_fraction=0.2, random_state=1, batch_size=16, max_iter=300).fit(X_train[:,[3,4]], y_train) # --> complexity features \n",
    "mlp_chu = MLPClassifier(hidden_layer_sizes=(50,100,50),early_stopping=True, validation_fraction=0.2, random_state=1, batch_size=16, max_iter=300).fit(X_train[:,[5,6]], y_train) # --> churn features \n",
    "\n",
    "#mlp_his_1 = MLPClassifier(random_state=1, max_iter=300).fit(X_train[:,[1]], y_train)\n",
    "#mlp_his_2 = MLPClassifier(random_state=1, max_iter=300).fit(X_train[:,[6]], y_train)\n",
    "\n",
    "logits_all = mlp_all.predict_proba(X_test[:,1:])\n",
    "logits_his = mlp_his.predict_proba(X_test[:,[1,2]])\n",
    "logits_com = mlp_com.predict_proba(X_test[:,[3,4]])\n",
    "logits_chu = mlp_chu.predict_proba(X_test[:,[5,6]])\n",
    "\n",
    "#logits_his_1 = mlp_his_1.predict_proba(X_test[:,[1]])\n",
    "#logits_his_2 = mlp_his_2.predict_proba(X_test[:,[6]])"
   ]
  },
  {
   "cell_type": "code",
   "execution_count": 17,
   "id": "246dfb68-15d2-4204-8611-91471d8038d3",
   "metadata": {
    "tags": []
   },
   "outputs": [],
   "source": [
    "# This function returns the greatest f1-score with the best threshold selected.\n",
    "def best_f1(y_trues, logits):\n",
    "\n",
    "    best_threshold=0\n",
    "    best_f1=0\n",
    "    \n",
    "    for i in range(1,100):\n",
    "        threshold=i/100\n",
    "        y_preds=logits[:,1]>threshold\n",
    "        f1=f1_score(y_trues, y_preds) \n",
    "        if f1>best_f1:\n",
    "            best_f1=f1\n",
    "            best_threshold=threshold\n",
    "\n",
    "    y_preds=logits[:,1]>best_threshold\n",
    "\n",
    "    f1=f1_score(y_trues, y_preds)\n",
    "    \n",
    "    return f1, y_preds"
   ]
  },
  {
   "cell_type": "code",
   "execution_count": 18,
   "id": "075d917b-39fb-430f-856a-b0f93759917e",
   "metadata": {
    "tags": []
   },
   "outputs": [],
   "source": [
    "f1_all,y_preds_all=best_f1(y_trues, logits_all)\n",
    "f1_his,y_preds_his=best_f1(y_trues, logits_his)\n",
    "f1_com,y_preds_com=best_f1(y_trues, logits_com)\n",
    "f1_chu,y_preds_chu=best_f1(y_trues, logits_chu)"
   ]
  },
  {
   "cell_type": "code",
   "execution_count": 19,
   "id": "9b5bc29c-93d6-4544-ac39-8caca04265e7",
   "metadata": {
    "tags": []
   },
   "outputs": [
    {
     "name": "stdout",
     "output_type": "stream",
     "text": [
      "**** F1_score ****\n",
      "0.9\n",
      "0.887\n",
      "0.715\n",
      "0.666\n",
      "**** Precision ****\n",
      "0.906\n",
      "0.928\n",
      "0.608\n",
      "0.501\n",
      "**** Recall ****\n",
      "0.894\n",
      "0.85\n",
      "0.869\n",
      "0.994\n"
     ]
    }
   ],
   "source": [
    "print('**** F1_score ****')\n",
    "print(round(f1_all,3))\n",
    "print(round(f1_his,3))\n",
    "print(round(f1_com,3))\n",
    "print(round(f1_chu,3))\n",
    "print('**** Precision ****')\n",
    "print(round(precision_score(y_trues, y_preds_all),3))\n",
    "print(round(precision_score(y_trues, y_preds_his),3))\n",
    "print(round(precision_score(y_trues, y_preds_com),3))\n",
    "print(round(precision_score(y_trues, y_preds_chu),3))\n",
    "print('**** Recall ****')\n",
    "print(round(recall_score(y_trues, y_preds_all),3))\n",
    "print(round(recall_score(y_trues, y_preds_his),3))\n",
    "print(round(recall_score(y_trues, y_preds_com),3))\n",
    "print(round(recall_score(y_trues, y_preds_chu),3))"
   ]
  },
  {
   "cell_type": "markdown",
   "id": "f7ab1699-6fb6-4d37-9d6b-91a81c32cef4",
   "metadata": {
    "tags": []
   },
   "source": [
    "#### 2.2.2 Naive-Bayes"
   ]
  },
  {
   "cell_type": "code",
   "execution_count": 20,
   "id": "015d2769-242e-4203-aa41-7c234721388b",
   "metadata": {
    "tags": []
   },
   "outputs": [
    {
     "name": "stdout",
     "output_type": "stream",
     "text": [
      "F1-score with Naive-Bayes: 0.839\n",
      "Precision with Naive-Bayes: 0.856\n",
      "Recall with Naive-Bayes: 0.823\n"
     ]
    }
   ],
   "source": [
    "from sklearn.naive_bayes import GaussianNB\n",
    "\n",
    "gnb = GaussianNB().fit(X_train[:,1:], y_train)\n",
    "logits_gnb = gnb.predict_proba(X_test[:,1:])\n",
    "\n",
    "f1_gnb,y_preds_gnb=best_f1(y_trues, logits_gnb)\n",
    "\n",
    "print(f\"F1-score with Naive-Bayes: {round(f1_score(y_trues, y_preds_gnb), 3)}\")\n",
    "print(f\"Precision with Naive-Bayes: {round(precision_score(y_trues, y_preds_gnb), 3)}\")\n",
    "print(f\"Recall with Naive-Bayes: {round(recall_score(y_trues, y_preds_gnb), 3)}\")"
   ]
  },
  {
   "cell_type": "code",
   "execution_count": 21,
   "id": "f512410b-8bb8-44b4-b99c-0df245ff121d",
   "metadata": {
    "tags": []
   },
   "outputs": [
    {
     "name": "stdout",
     "output_type": "stream",
     "text": [
      "**** F1_score ****\n",
      "0.839\n",
      "0.87\n",
      "0.636\n",
      "0.631\n",
      "**** Precision ****\n",
      "0.856\n",
      "0.883\n",
      "0.482\n",
      "0.462\n",
      "**** Recall ****\n",
      "0.823\n",
      "0.857\n",
      "0.933\n",
      "0.998\n"
     ]
    }
   ],
   "source": [
    "gnb_all = GaussianNB().fit(X_train[:,1:], y_train)    # --> all features\n",
    "gnb_his = GaussianNB().fit(X_train[:,[1,2]], y_train) # --> historical features\n",
    "gnb_com = GaussianNB().fit(X_train[:,[3,4]], y_train) # --> complexity features \n",
    "gnb_chu = GaussianNB().fit(X_train[:,[5,6]], y_train) # --> churn features \n",
    "\n",
    "#mlp_his_1 = MLPClassifier(random_state=1, max_iter=300).fit(X_train[:,[1]], y_train)\n",
    "#mlp_his_2 = MLPClassifier(random_state=1, max_iter=300).fit(X_train[:,[6]], y_train)\n",
    "\n",
    "gnb_logits_all = gnb_all.predict_proba(X_test[:,1:])\n",
    "gnb_logits_his = gnb_his.predict_proba(X_test[:,[1,2]])\n",
    "gnb_logits_com = gnb_com.predict_proba(X_test[:,[3,4]])\n",
    "gnb_logits_chu = gnb_chu.predict_proba(X_test[:,[5,6]])\n",
    "\n",
    "gnb_f1_all,gnb_y_preds_all=best_f1(y_trues, gnb_logits_all)\n",
    "gnb_f1_his,gnb_y_preds_his=best_f1(y_trues, gnb_logits_his)\n",
    "gnb_f1_com,gnb_y_preds_com=best_f1(y_trues, gnb_logits_com)\n",
    "gnb_f1_chu,gnb_y_preds_chu=best_f1(y_trues, gnb_logits_chu)\n",
    "\n",
    "print('**** F1_score ****')\n",
    "print(round(gnb_f1_all,3))\n",
    "print(round(gnb_f1_his,3))\n",
    "print(round(gnb_f1_com,3))\n",
    "print(round(gnb_f1_chu,3))\n",
    "print('**** Precision ****')\n",
    "print(round(precision_score(y_trues, gnb_y_preds_all),3))\n",
    "print(round(precision_score(y_trues, gnb_y_preds_his),3))\n",
    "print(round(precision_score(y_trues, gnb_y_preds_com),3))\n",
    "print(round(precision_score(y_trues, gnb_y_preds_chu),3))\n",
    "print('**** Recall ****')\n",
    "print(round(recall_score(y_trues, gnb_y_preds_all),3))\n",
    "print(round(recall_score(y_trues, gnb_y_preds_his),3))\n",
    "print(round(recall_score(y_trues, gnb_y_preds_com),3))\n",
    "print(round(recall_score(y_trues, gnb_y_preds_chu),3))"
   ]
  },
  {
   "cell_type": "markdown",
   "id": "08c61db8-bce4-4692-b93b-b04e1fec9e2e",
   "metadata": {
    "tags": []
   },
   "source": [
    "#### 2.2.3 Decision Tree"
   ]
  },
  {
   "cell_type": "code",
   "execution_count": 22,
   "id": "271e8c2a-360c-4048-9dd2-78a629d217a6",
   "metadata": {
    "tags": []
   },
   "outputs": [
    {
     "name": "stdout",
     "output_type": "stream",
     "text": [
      "F1-score with Decision-Tree: 0.897\n",
      "Precision with Decision-Tree: 0.882\n",
      "Recall with Decision-Tree: 0.911\n"
     ]
    }
   ],
   "source": [
    "from sklearn.tree import DecisionTreeClassifier\n",
    "\n",
    "dt = DecisionTreeClassifier().fit(X_train[:,1:], y_train)\n",
    "logits_dt = dt.predict_proba(X_test[:,1:])\n",
    "\n",
    "f1_dt,y_preds_dt=best_f1(y_trues, logits_dt)\n",
    "\n",
    "print(f\"F1-score with Decision-Tree: {round(f1_score(y_trues, y_preds_dt), 3)}\")\n",
    "print(f\"Precision with Decision-Tree: {round(precision_score(y_trues, y_preds_dt), 3)}\")\n",
    "print(f\"Recall with Decision-Tree: {round(recall_score(y_trues, y_preds_dt), 3)}\")"
   ]
  },
  {
   "cell_type": "code",
   "execution_count": 23,
   "id": "23bd8aaf-fc12-48e6-9379-d22d110d5b60",
   "metadata": {
    "tags": []
   },
   "outputs": [
    {
     "name": "stdout",
     "output_type": "stream",
     "text": [
      "**** F1_score ****\n",
      "0.897\n",
      "0.887\n",
      "0.775\n",
      "0.667\n",
      "**** Precision ****\n",
      "0.883\n",
      "0.927\n",
      "0.71\n",
      "0.502\n",
      "**** Recall ****\n",
      "0.912\n",
      "0.849\n",
      "0.852\n",
      "0.992\n"
     ]
    }
   ],
   "source": [
    "dt_all = DecisionTreeClassifier().fit(X_train[:,1:], y_train)    # --> all features\n",
    "dt_his = DecisionTreeClassifier().fit(X_train[:,[1,2]], y_train) # --> historical features\n",
    "dt_com = DecisionTreeClassifier().fit(X_train[:,[3,4]], y_train) # --> complexity features \n",
    "dt_chu = DecisionTreeClassifier().fit(X_train[:,[5,6]], y_train) # --> churn features \n",
    "\n",
    "#mlp_his_1 = MLPClassifier(random_state=1, max_iter=300).fit(X_train[:,[1]], y_train)\n",
    "#mlp_his_2 = MLPClassifier(random_state=1, max_iter=300).fit(X_train[:,[6]], y_train)\n",
    "\n",
    "dt_logits_all = dt_all.predict_proba(X_test[:,1:])\n",
    "dt_logits_his = dt_his.predict_proba(X_test[:,[1,2]])\n",
    "dt_logits_com = dt_com.predict_proba(X_test[:,[3,4]])\n",
    "dt_logits_chu = dt_chu.predict_proba(X_test[:,[5,6]])\n",
    "\n",
    "dt_f1_all,dt_y_preds_all=best_f1(y_trues, dt_logits_all)\n",
    "dt_f1_his,dt_y_preds_his=best_f1(y_trues, dt_logits_his)\n",
    "dt_f1_com,dt_y_preds_com=best_f1(y_trues, dt_logits_com)\n",
    "dt_f1_chu,dt_y_preds_chu=best_f1(y_trues, dt_logits_chu)\n",
    "\n",
    "\n",
    "print('**** F1_score ****')\n",
    "print(round(dt_f1_all,3))\n",
    "print(round(dt_f1_his,3))\n",
    "print(round(dt_f1_com,3))\n",
    "print(round(dt_f1_chu,3))\n",
    "print('**** Precision ****')\n",
    "print(round(precision_score(y_trues, dt_y_preds_all),3))\n",
    "print(round(precision_score(y_trues, dt_y_preds_his),3))\n",
    "print(round(precision_score(y_trues, dt_y_preds_com),3))\n",
    "print(round(precision_score(y_trues, dt_y_preds_chu),3))\n",
    "print('**** Recall ****')\n",
    "print(round(recall_score(y_trues, dt_y_preds_all),3))\n",
    "print(round(recall_score(y_trues, dt_y_preds_his),3))\n",
    "print(round(recall_score(y_trues, dt_y_preds_com),3))\n",
    "print(round(recall_score(y_trues, dt_y_preds_chu),3))"
   ]
  },
  {
   "cell_type": "markdown",
   "id": "7aceff3a-7a8c-4a48-8e74-6d8733d722eb",
   "metadata": {
    "tags": []
   },
   "source": [
    "## 3. Result Analysis"
   ]
  },
  {
   "cell_type": "code",
   "execution_count": 24,
   "id": "0a4accd5-70f1-4557-83f0-d5b3ee560544",
   "metadata": {
    "tags": []
   },
   "outputs": [],
   "source": [
    "y_preds_grided = {}\n",
    "y_trues_grided = {}\n",
    "\n",
    "#X_test = np.sort(X_test, axis=0)\n",
    "for index,x in enumerate(X_test):\n",
    "    if x[0] not in y_preds_grided:\n",
    "        y_preds_grided[x[0]] = {'all':[],'his':[],'com':[],'chu':[],'st':[],'gnb':[],'dt':[],'rg':[],'his_1':[],'his_2':[]}\n",
    "        y_trues_grided[x[0]] = []\n",
    "    y_preds_grided[x[0]]['all'].append(y_preds_all[index])\n",
    "    y_preds_grided[x[0]]['his'].append(y_preds_his[index])\n",
    "    y_preds_grided[x[0]]['com'].append(y_preds_com[index])\n",
    "    y_preds_grided[x[0]]['chu'].append(y_preds_chu[index])\n",
    "    y_preds_grided[x[0]]['gnb'].append(y_preds_gnb[index])\n",
    "    y_preds_grided[x[0]]['dt'].append(y_preds_dt[index])\n",
    "    y_preds_grided[x[0]]['st'].append(y_preds_st[index])\n",
    "    y_preds_grided[x[0]]['rg'].append(y_preds_rg[index])\n",
    "    #y_preds_grided[x[0]]['his_1'].append(y_preds_his_1[index])\n",
    "    #y_preds_grided[x[0]]['his_2'].append(y_preds_his_2[index])\n",
    "    y_trues_grided[x[0]].append(y_trues[index])"
   ]
  },
  {
   "cell_type": "code",
   "execution_count": 25,
   "id": "c9a8515c-541c-4137-b183-71bca8182bca",
   "metadata": {
    "tags": []
   },
   "outputs": [],
   "source": [
    "def custom_f1_score(y_trues, y_preds, zero_division = 0):\n",
    "    \"\"\"\n",
    "    Calculate a modified F1-score that assigns a perfect score of 1.0 \n",
    "    when there are no positive instances in both true labels and predictions.\n",
    "\n",
    "    Parameters:\n",
    "    y_trues (list or array): True binary labels.\n",
    "    y_preds (list or array): Predicted binary labels.\n",
    "\n",
    "    Returns:\n",
    "    float: The modified F1-score.\n",
    "    \"\"\"\n",
    "    if all(y == 0 for y in y_trues) and all(y == False for y in y_preds):\n",
    "        return 1.0\n",
    "    \n",
    "    elif all(y == 1 for y in y_trues) and all(y == True for y in y_preds):\n",
    "        return 1.0\n",
    "    \n",
    "    else:\n",
    "        return f1_score(y_trues, y_preds, zero_division=zero_division)"
   ]
  },
  {
   "cell_type": "code",
   "execution_count": 26,
   "id": "7610b67b-1303-433a-a973-5001263ea87d",
   "metadata": {
    "tags": []
   },
   "outputs": [],
   "source": [
    "f1_grided_first100 = {'all':[],'his':[],'com':[],'chu':[],'st':[],'gnb':[],'dt':[],'rg':[]}\n",
    "f1_grided_second100 = {'all':[],'his':[],'com':[],'chu':[],'st':[],'gnb':[],'dt':[],'rg':[]}\n",
    "\n",
    "precision_grided_first100 = {'all':[],'his':[],'com':[],'chu':[],'st':[],'gnb':[],'dt':[],'rg':[]}\n",
    "recall_grided_first100 = {'all':[],'his':[],'com':[],'chu':[],'st':[],'gnb':[],'dt':[],'rg':[]}\n",
    "\n",
    "f1_grided_mlp = []\n",
    "\n",
    "f1_grided_gnb = []\n",
    "f1_grided_dt = []\n",
    "f1_grided_st = []\n",
    "f1_grided_rg = []\n",
    "\n",
    "f1_grided_his = []\n",
    "f1_grided_com = []\n",
    "f1_grided_chu = []\n",
    "\n",
    "first_100_total = 0\n",
    "second_100_total = 0\n",
    "        \n",
    "for x in y_preds_grided:\n",
    "    \n",
    "    f1_grided_mlp.append(custom_f1_score(y_trues_grided[x], y_preds_grided[x]['all'], zero_division=0))\n",
    "    f1_grided_gnb.append(custom_f1_score(y_trues_grided[x], y_preds_grided[x]['gnb'], zero_division=0))\n",
    "    f1_grided_dt.append(custom_f1_score(y_trues_grided[x], y_preds_grided[x]['dt'], zero_division=0))\n",
    "    f1_grided_st.append(custom_f1_score(y_trues_grided[x], y_preds_grided[x]['st'], zero_division=0))\n",
    "    f1_grided_rg.append(custom_f1_score(y_trues_grided[x], y_preds_grided[x]['rg'], zero_division=0))\n",
    "    f1_grided_his.append(custom_f1_score(y_trues_grided[x], y_preds_grided[x]['his'], zero_division=0))\n",
    "    f1_grided_com.append(custom_f1_score(y_trues_grided[x], y_preds_grided[x]['com'], zero_division=0))\n",
    "    f1_grided_chu.append(custom_f1_score(y_trues_grided[x], y_preds_grided[x]['chu'], zero_division=0))\n",
    "    \n",
    "    if len(y_preds_grided[x]['all']) > 29:\n",
    "        \n",
    "        first_100_total += len(y_preds_grided[x]['all'])\n",
    "    \n",
    "        f1_grided_first100['all'].append(custom_f1_score(y_trues_grided[x], y_preds_grided[x]['all'], zero_division=0))\n",
    "        f1_grided_first100['his'].append(custom_f1_score(y_trues_grided[x], y_preds_grided[x]['his'], zero_division=0))\n",
    "        f1_grided_first100['com'].append(custom_f1_score(y_trues_grided[x], y_preds_grided[x]['com'], zero_division=0))\n",
    "        f1_grided_first100['chu'].append(custom_f1_score(y_trues_grided[x], y_preds_grided[x]['chu'], zero_division=0))\n",
    "        f1_grided_first100['gnb'].append(custom_f1_score(y_trues_grided[x], y_preds_grided[x]['gnb'], zero_division=0))\n",
    "        f1_grided_first100['dt'].append(custom_f1_score(y_trues_grided[x], y_preds_grided[x]['dt'], zero_division=0))\n",
    "        f1_grided_first100['st'].append(custom_f1_score(y_trues_grided[x], y_preds_grided[x]['st'], zero_division=0))\n",
    "        f1_grided_first100['rg'].append(custom_f1_score(y_trues_grided[x], y_preds_grided[x]['rg'], zero_division=0))\n",
    "        \n",
    "        precision_grided_first100['all'].append(precision_score(y_trues_grided[x], y_preds_grided[x]['all'], zero_division=0))\n",
    "        precision_grided_first100['gnb'].append(precision_score(y_trues_grided[x], y_preds_grided[x]['gnb'], zero_division=0))\n",
    "        precision_grided_first100['dt'].append(precision_score(y_trues_grided[x], y_preds_grided[x]['dt'], zero_division=0))\n",
    "        precision_grided_first100['st'].append(precision_score(y_trues_grided[x], y_preds_grided[x]['st'], zero_division=0))\n",
    "        precision_grided_first100['rg'].append(precision_score(y_trues_grided[x], y_preds_grided[x]['rg'], zero_division=0))\n",
    "        \n",
    "        recall_grided_first100['all'].append(recall_score(y_trues_grided[x], y_preds_grided[x]['all'], zero_division=0))\n",
    "        recall_grided_first100['gnb'].append(recall_score(y_trues_grided[x], y_preds_grided[x]['gnb'], zero_division=0))\n",
    "        recall_grided_first100['dt'].append(recall_score(y_trues_grided[x], y_preds_grided[x]['dt'], zero_division=0))\n",
    "        recall_grided_first100['st'].append(recall_score(y_trues_grided[x], y_preds_grided[x]['st'], zero_division=0))\n",
    "        recall_grided_first100['rg'].append(recall_score(y_trues_grided[x], y_preds_grided[x]['rg'], zero_division=0))\n",
    "        \n",
    "        \n",
    "    if len(y_preds_grided[x]['all']) <= 29 and len(y_preds_grided[x]['all']) > 10:\n",
    "        \n",
    "        second_100_total += len(y_preds_grided[x]['all'])\n",
    "    \n",
    "        f1_grided_second100['all'].append(custom_f1_score(y_trues_grided[x], y_preds_grided[x]['all'], zero_division=0))\n",
    "        f1_grided_second100['his'].append(custom_f1_score(y_trues_grided[x], y_preds_grided[x]['his'], zero_division=0))\n",
    "        f1_grided_second100['com'].append(custom_f1_score(y_trues_grided[x], y_preds_grided[x]['com'], zero_division=0))\n",
    "        f1_grided_second100['chu'].append(custom_f1_score(y_trues_grided[x], y_preds_grided[x]['chu'], zero_division=0))\n",
    "        f1_grided_second100['st'].append(custom_f1_score(y_trues_grided[x], y_preds_grided[x]['st'], zero_division=0))\n",
    "    "
   ]
  },
  {
   "cell_type": "code",
   "execution_count": 27,
   "id": "bbb5deb3-308d-48f6-8dae-ac3ea37cd274",
   "metadata": {
    "tags": []
   },
   "outputs": [
    {
     "name": "stdout",
     "output_type": "stream",
     "text": [
      "F1-score with all data: 0.827, standard deviaiton: 0.339\n",
      "F1-score with his data: 0.822, standard deviaiton: 0.34\n",
      "F1-score with com data: 0.506, standard deviaiton: 0.461\n",
      "F1-score with chu data: 0.58, standard deviaiton: 0.44\n",
      "First 100 workflow files have 65.49 reruns in average.\n",
      "Second 100 workflow files have 17.77 reruns in average.\n"
     ]
    }
   ],
   "source": [
    "print(f\"F1-score with all data: {round(np.mean(f1_grided_mlp),3)}, standard deviaiton: {round(np.std(f1_grided_mlp),3)}\")\n",
    "print(f\"F1-score with his data: {round(np.mean(f1_grided_his),3)}, standard deviaiton: {round(np.std(f1_grided_his),3)}\")\n",
    "print(f\"F1-score with com data: {round(np.mean(f1_grided_com),3)}, standard deviaiton: {round(np.std(f1_grided_com),3)}\")\n",
    "print(f\"F1-score with chu data: {round(np.mean(f1_grided_chu),3)}, standard deviaiton: {round(np.std(f1_grided_chu),3)}\")\n",
    "\n",
    "print(f\"First 100 workflow files have {first_100_total/100} reruns in average.\")\n",
    "print(f\"Second 100 workflow files have {second_100_total/100} reruns in average.\")"
   ]
  },
  {
   "cell_type": "code",
   "execution_count": 26,
   "id": "cccce318-cdd8-4ff9-be68-114eba40469f",
   "metadata": {
    "tags": []
   },
   "outputs": [
    {
     "data": {
      "image/png": "[encoded data removed]",
      "text/plain": [
       "<Figure size 1000x400 with 1 Axes>"
      ]
     },
     "metadata": {},
     "output_type": "display_data"
    }
   ],
   "source": [
    "positions = [1, 2, 3, 4, 5]\n",
    "labels = ['MLP', 'NB', 'DT', 'Straw-Man', 'Random']\n",
    "#labels = ['All', 'Historical', 'Complexity', 'Churn', 'Straw-Man']\n",
    "#data_first100 = [f1_grided_first100['all'], f1_grided_first100['his'], f1_grided_first100['com'], f1_grided_first100['chu'], f1_grided_first100['st']]\n",
    "#data_second100 = [f1_grided_second100['all'], f1_grided_second100['his'], f1_grided_second100['com'], f1_grided_second100['chu'], f1_grided_second100['st']]\n",
    "data_models_f1 = [f1_grided_first100['all'],f1_grided_first100['gnb'],f1_grided_first100['dt'],f1_grided_first100['st'],f1_grided_first100['rg']]\n",
    "data_models_precision = [precision_grided_first100['all'],precision_grided_first100['gnb'],precision_grided_first100['dt'],precision_grided_first100['st'],precision_grided_first100['rg']]\n",
    "data_models_recall = [recall_grided_first100['all'],recall_grided_first100['gnb'],recall_grided_first100['dt'],recall_grided_first100['st'],recall_grided_first100['rg']]\n",
    "medianprops = dict(linestyle='-', linewidth=1, color='black')\n",
    "\n",
    "\n",
    "fig, ax = plt.subplots(figsize=(10, 4))\n",
    "\n",
    "box = ax.boxplot(data_models_f1, vert=True, patch_artist=True, showfliers=False, medianprops=medianprops, widths=0.25)\n",
    "# Change the color of the body of the boxes\n",
    "colors = [\n",
    "    (231/255, 98/255, 84/255),\n",
    "    #(239/255, 138/255, 71/255),\n",
    "    (247/255, 170/255, 88/255),\n",
    "    #(255/255, 208/255, 111/255),\n",
    "    (255/255, 230/255, 183/255),\n",
    "    #(170/255, 220/255, 224/255),\n",
    "    #(114/255, 188/255, 213/255),\n",
    "    (82/255, 149/255, 173/255),\n",
    "    #(55/255, 103/255, 149/255),\n",
    "    (30/255, 70/255, 110/255)\n",
    "]\n",
    "for patch, color in zip(box['boxes'], colors):\n",
    "    patch.set_facecolor(color)\n",
    "    \n",
    "ax.set_ylabel('F1-score')\n",
    "ax.set_yticks([i * 0.1 for i in range(0,11)])\n",
    "ax.set_xticks(positions, labels)\n",
    "ax.set_title(\"Models' performance at the level of workflow files\")\n",
    "ax.grid(True, linestyle='--', alpha=0.7, color = 'darkgray', zorder=0)\n",
    "'''\n",
    "box = ax[1].boxplot(data_models_precision, vert=True, patch_artist=True, showfliers=False, medianprops=medianprops, widths=0.25)\n",
    "# Change the color of the body of the boxes\n",
    "colors = ['#FFDB58', '#ff6205', 'lightgreen', 'lightpink']\n",
    "for patch, color in zip(box['boxes'], colors):\n",
    "    patch.set_facecolor(color)\n",
    "    \n",
    "ax[1].set_ylabel('F1-score')\n",
    "ax[1].set_yticks([i * 0.1 for i in range(0,11)])\n",
    "ax[1].set_xticks(positions, labels)\n",
    "ax[1].grid(True, linestyle='--', alpha=0.7, color = 'darkgray', zorder=0)\n",
    "\n",
    "box = ax[2].boxplot(data_models_recall, vert=True, patch_artist=True, showfliers=False, medianprops=medianprops, widths=0.25)\n",
    "# Change the color of the body of the boxes\n",
    "colors = ['#FFDB58', '#ff6205', 'lightgreen', 'lightpink']\n",
    "for patch, color in zip(box['boxes'], colors):\n",
    "    patch.set_facecolor(color)\n",
    "    \n",
    "ax[2].set_ylabel('F1-score')\n",
    "ax[2].set_yticks([i * 0.1 for i in range(0,11)])\n",
    "ax[2].set_xticks(positions, labels)\n",
    "ax[2].grid(True, linestyle='--', alpha=0.7, color = 'darkgray', zorder=0)\n",
    "'''\n",
    "plt.savefig('../plots/box_plot_models.pdf', format='pdf', bbox_inches='tight')\n",
    "plt.show()"
   ]
  },
  {
   "cell_type": "code",
   "execution_count": 27,
   "id": "134b8898-3002-453f-bd78-1c45d4d36cbb",
   "metadata": {
    "tags": []
   },
   "outputs": [],
   "source": [
    "positions = [1, 2]\n",
    "colors = [\n",
    "    #(231/255, 98/255, 84/255),\n",
    "    #(239/255, 138/255, 71/255),\n",
    "    #(247/255, 170/255, 88/255),\n",
    "    (255/255, 208/255, 111/255),\n",
    "    #(255/255, 230/255, 183/255),\n",
    "    #(170/255, 220/255, 224/255),\n",
    "    #(114/255, 188/255, 213/255),\n",
    "    #(82/255, 149/255, 173/255),\n",
    "    (55/255, 103/255, 149/255),\n",
    "    #(30/255, 70/255, 110/255)\n",
    "]\n",
    "labels = ['First 100','Second 100']\n",
    "#data_first100 = [f1_grided_first100['all'], f1_grided_first100['his'], f1_grided_first100['com'], f1_grided_first100['chu'], f1_grided_first100['st']]\n",
    "#data_second100 = [f1_grided_second100['all'], f1_grided_second100['his'], f1_grided_second100['com'], f1_grided_second100['chu'], f1_grided_second100['st']]\n",
    "data_all = [f1_grided_first100['all'], f1_grided_second100['all']]\n",
    "data_his = [f1_grided_first100['his'], f1_grided_second100['his']]\n",
    "data_com = [f1_grided_first100['com'], f1_grided_second100['com']]\n",
    "data_chu = [f1_grided_first100['chu'], f1_grided_second100['chu']]\n",
    "data_st = [f1_grided_first100['st'], f1_grided_second100['st']]\n",
    "medianprops = dict(linestyle='-', linewidth=1, color='black')"
   ]
  },
  {
   "cell_type": "code",
   "execution_count": 28,
   "id": "22709af0-685e-4042-9355-5178ed9a118a",
   "metadata": {
    "tags": []
   },
   "outputs": [
    {
     "data": {
      "image/png": "[encoded data removed]",
      "text/plain": [
       "<Figure size 1200x400 with 4 Axes>"
      ]
     },
     "metadata": {},
     "output_type": "display_data"
    }
   ],
   "source": [
    "fig, ax = plt.subplots(1, 4, figsize=(12, 4))\n",
    "\n",
    "box = ax[0].boxplot(data_all, vert=True, patch_artist=True, showfliers=False, medianprops=medianprops, widths=0.25)\n",
    "# Change the color of the body of the boxes\n",
    "for patch, color in zip(box['boxes'], colors):\n",
    "    patch.set_facecolor(color)\n",
    "    \n",
    "ax[0].set_ylabel('F1-score')\n",
    "ax[0].set_yticks([i * 0.1 for i in range(0,11)])\n",
    "ax[0].set_xticks(positions, labels)\n",
    "ax[0].set_title('All')\n",
    "ax[0].grid(True, linestyle='--', alpha=0.7, color = 'darkgray', zorder=0)\n",
    "\n",
    "\n",
    "box = ax[1].boxplot(data_his, vert=True, patch_artist=True, showfliers=False, medianprops=medianprops, widths=0.25)\n",
    "# Change the color of the body of the boxes\n",
    "for patch, color in zip(box['boxes'], colors):\n",
    "    patch.set_facecolor(color)\n",
    "    \n",
    "\n",
    "ax[1].set_yticks([i * 0.1 for i in range(0,11)])\n",
    "ax[1].set_xticks(positions, labels)\n",
    "ax[1].set_title('Historical')\n",
    "ax[1].grid(True, linestyle='--', alpha=0.7, color = 'darkgray', zorder=0)\n",
    "\n",
    "box = ax[2].boxplot(data_com, vert=True, patch_artist=True, showfliers=False, medianprops=medianprops, widths=0.25)\n",
    "# Change the color of the body of the boxes\n",
    "for patch, color in zip(box['boxes'], colors):\n",
    "    patch.set_facecolor(color)\n",
    "    \n",
    "\n",
    "ax[2].set_yticks([i * 0.1 for i in range(0,11)])\n",
    "ax[2].set_xticks(positions, labels)\n",
    "ax[2].set_title('Complexity')\n",
    "ax[2].grid(True, linestyle='--', alpha=0.7, color = 'darkgray', zorder=0)\n",
    "\n",
    "box = ax[3].boxplot(data_chu, vert=True, patch_artist=True, showfliers=False, medianprops=medianprops, widths=0.25)\n",
    "# Change the color of the body of the boxes\n",
    "for patch, color in zip(box['boxes'], colors):\n",
    "    patch.set_facecolor(color)\n",
    "    \n",
    "\n",
    "ax[3].set_yticks([i * 0.1 for i in range(0,11)])\n",
    "ax[3].set_xticks(positions, labels)\n",
    "ax[3].set_title('Churn')\n",
    "ax[3].grid(True, linestyle='--', alpha=0.7, color = 'darkgray', zorder=0)\n",
    "\n",
    "'''\n",
    "box = ax[4].boxplot(data_st, vert=True, patch_artist=True, medianprops=medianprops, widths=0.25)\n",
    "# Change the color of the body of the boxes\n",
    "for patch, color in zip(box['boxes'], colors):\n",
    "    patch.set_facecolor(color)\n",
    "    \n",
    "\n",
    "ax[4].set_yticks([i * 0.1 for i in range(0,11)])\n",
    "ax[4].set_xticks(positions, labels)\n",
    "ax[4].set_title('Straw-Man')\n",
    "ax[4].grid(True, linestyle='--', alpha=0.7, color = 'darkgray', zorder=0)\n",
    "'''\n",
    "\n",
    "plt.savefig('../plots/box_plot.pdf', format='pdf', bbox_inches='tight')\n",
    "plt.show()"
   ]
  },
  {
   "cell_type": "code",
   "execution_count": null,
   "id": "96c0e5ca-2459-484f-b851-5622b24b031f",
   "metadata": {},
   "outputs": [],
   "source": []
  }
 ],
 "metadata": {
  "kernelspec": {
   "display_name": "Python 3 (ipykernel)",
   "language": "python",
   "name": "python3"
  },
  "language_info": {
   "codemirror_mode": {
    "name": "ipython",
    "version": 3
   },
   "file_extension": ".py",
   "mimetype": "text/x-python",
   "name": "python",
   "nbconvert_exporter": "python",
   "pygments_lexer": "ipython3",
   "version": "3.9.6"
  }
 },
 "nbformat": 4,
 "nbformat_minor": 5
}
